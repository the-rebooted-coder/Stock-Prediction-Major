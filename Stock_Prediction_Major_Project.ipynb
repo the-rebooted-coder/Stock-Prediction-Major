{
  "cells": [
    {
      "cell_type": "markdown",
      "metadata": {
        "id": "view-in-github",
        "colab_type": "text"
      },
      "source": [
        "<a href=\"https://colab.research.google.com/github/the-rebooted-coder/Stock-Prediction-Major/blob/main/Stock_Prediction_Major_Project.ipynb\" target=\"_parent\"><img src=\"https://colab.research.google.com/assets/colab-badge.svg\" alt=\"Open In Colab\"/></a>"
      ]
    },
    {
      "cell_type": "code",
      "execution_count": 129,
      "id": "f91eb4e9",
      "metadata": {
        "colab": {
          "base_uri": "https://localhost:8080/"
        },
        "id": "f91eb4e9",
        "outputId": "c6ea005e-d273-4b00-bb33-6cb47b691901"
      },
      "outputs": [
        {
          "output_type": "stream",
          "name": "stdout",
          "text": [
            "Looking in indexes: https://pypi.org/simple, https://us-python.pkg.dev/colab-wheels/public/simple/\n",
            "Requirement already satisfied: yfinance in /usr/local/lib/python3.8/dist-packages (0.1.87)\n",
            "Requirement already satisfied: numpy>=1.15 in /usr/local/lib/python3.8/dist-packages (from yfinance) (1.21.6)\n",
            "Requirement already satisfied: lxml>=4.5.1 in /usr/local/lib/python3.8/dist-packages (from yfinance) (4.9.1)\n",
            "Requirement already satisfied: pandas>=0.24.0 in /usr/local/lib/python3.8/dist-packages (from yfinance) (1.3.5)\n",
            "Requirement already satisfied: requests>=2.26 in /usr/local/lib/python3.8/dist-packages (from yfinance) (2.28.1)\n",
            "Requirement already satisfied: appdirs>=1.4.4 in /usr/local/lib/python3.8/dist-packages (from yfinance) (1.4.4)\n",
            "Requirement already satisfied: multitasking>=0.0.7 in /usr/local/lib/python3.8/dist-packages (from yfinance) (0.0.11)\n",
            "Requirement already satisfied: python-dateutil>=2.7.3 in /usr/local/lib/python3.8/dist-packages (from pandas>=0.24.0->yfinance) (2.8.2)\n",
            "Requirement already satisfied: pytz>=2017.3 in /usr/local/lib/python3.8/dist-packages (from pandas>=0.24.0->yfinance) (2022.6)\n",
            "Requirement already satisfied: six>=1.5 in /usr/local/lib/python3.8/dist-packages (from python-dateutil>=2.7.3->pandas>=0.24.0->yfinance) (1.15.0)\n",
            "Requirement already satisfied: certifi>=2017.4.17 in /usr/local/lib/python3.8/dist-packages (from requests>=2.26->yfinance) (2022.9.24)\n",
            "Requirement already satisfied: urllib3<1.27,>=1.21.1 in /usr/local/lib/python3.8/dist-packages (from requests>=2.26->yfinance) (1.24.3)\n",
            "Requirement already satisfied: charset-normalizer<3,>=2 in /usr/local/lib/python3.8/dist-packages (from requests>=2.26->yfinance) (2.1.1)\n",
            "Requirement already satisfied: idna<4,>=2.5 in /usr/local/lib/python3.8/dist-packages (from requests>=2.26->yfinance) (2.10)\n"
          ]
        }
      ],
      "source": [
        "#yahoo finance as data source\n",
        "!pip install yfinance\n",
        "import yfinance as yf"
      ]
    },
    {
      "cell_type": "code",
      "execution_count": 224,
      "id": "ee00f18c",
      "metadata": {
        "id": "ee00f18c"
      },
      "outputs": [],
      "source": [
        "#See the yahoo finance ticker for your stock symbol\n",
        "stock_symbol = 'GAIL.NS'"
      ]
    },
    {
      "cell_type": "code",
      "execution_count": 225,
      "id": "d365868a",
      "metadata": {
        "colab": {
          "base_uri": "https://localhost:8080/"
        },
        "id": "d365868a",
        "outputId": "ac08cc02-1363-43e7-d15c-cd1456b4243c"
      },
      "outputs": [
        {
          "output_type": "stream",
          "name": "stdout",
          "text": [
            "\r[*********************100%***********************]  1 of 1 completed\n"
          ]
        }
      ],
      "source": [
        "#last 5 years data with interval of 1 day\n",
        "data = yf.download(tickers=stock_symbol,period='5y',interval='1d')"
      ]
    },
    {
      "cell_type": "code",
      "execution_count": 226,
      "id": "9f82e205",
      "metadata": {
        "colab": {
          "base_uri": "https://localhost:8080/"
        },
        "id": "9f82e205",
        "outputId": "b71bd205-9200-49c6-bcf2-311ed1790aa8"
      },
      "outputs": [
        {
          "output_type": "execute_result",
          "data": {
            "text/plain": [
              "pandas.core.frame.DataFrame"
            ]
          },
          "metadata": {},
          "execution_count": 226
        }
      ],
      "source": [
        "type(data)"
      ]
    },
    {
      "cell_type": "code",
      "execution_count": 227,
      "id": "dbbe3e6b",
      "metadata": {
        "colab": {
          "base_uri": "https://localhost:8080/",
          "height": 238
        },
        "id": "dbbe3e6b",
        "outputId": "c63f114e-b28a-4105-b8a4-e6a3db68ab09"
      },
      "outputs": [
        {
          "output_type": "execute_result",
          "data": {
            "text/plain": [
              "                  Open        High         Low       Close   Adj Close  Volume\n",
              "Date                                                                          \n",
              "2017-12-08  664.049988  689.900024  664.049988  685.700012  678.230042  480717\n",
              "2017-12-11  680.000000  682.750000  671.049988  674.750000  667.399292  122163\n",
              "2017-12-12  671.049988  682.000000  671.000000  676.049988  668.685120  121938\n",
              "2017-12-13  671.049988  682.000000  657.000000  675.349976  667.992798  260250\n",
              "2017-12-14  675.099976  683.000000  673.299988  679.900024  672.493164  444539"
            ],
            "text/html": [
              "\n",
              "  <div id=\"df-4ffb3b0d-3990-400b-9f56-990393576ec9\">\n",
              "    <div class=\"colab-df-container\">\n",
              "      <div>\n",
              "<style scoped>\n",
              "    .dataframe tbody tr th:only-of-type {\n",
              "        vertical-align: middle;\n",
              "    }\n",
              "\n",
              "    .dataframe tbody tr th {\n",
              "        vertical-align: top;\n",
              "    }\n",
              "\n",
              "    .dataframe thead th {\n",
              "        text-align: right;\n",
              "    }\n",
              "</style>\n",
              "<table border=\"1\" class=\"dataframe\">\n",
              "  <thead>\n",
              "    <tr style=\"text-align: right;\">\n",
              "      <th></th>\n",
              "      <th>Open</th>\n",
              "      <th>High</th>\n",
              "      <th>Low</th>\n",
              "      <th>Close</th>\n",
              "      <th>Adj Close</th>\n",
              "      <th>Volume</th>\n",
              "    </tr>\n",
              "    <tr>\n",
              "      <th>Date</th>\n",
              "      <th></th>\n",
              "      <th></th>\n",
              "      <th></th>\n",
              "      <th></th>\n",
              "      <th></th>\n",
              "      <th></th>\n",
              "    </tr>\n",
              "  </thead>\n",
              "  <tbody>\n",
              "    <tr>\n",
              "      <th>2017-12-08</th>\n",
              "      <td>664.049988</td>\n",
              "      <td>689.900024</td>\n",
              "      <td>664.049988</td>\n",
              "      <td>685.700012</td>\n",
              "      <td>678.230042</td>\n",
              "      <td>480717</td>\n",
              "    </tr>\n",
              "    <tr>\n",
              "      <th>2017-12-11</th>\n",
              "      <td>680.000000</td>\n",
              "      <td>682.750000</td>\n",
              "      <td>671.049988</td>\n",
              "      <td>674.750000</td>\n",
              "      <td>667.399292</td>\n",
              "      <td>122163</td>\n",
              "    </tr>\n",
              "    <tr>\n",
              "      <th>2017-12-12</th>\n",
              "      <td>671.049988</td>\n",
              "      <td>682.000000</td>\n",
              "      <td>671.000000</td>\n",
              "      <td>676.049988</td>\n",
              "      <td>668.685120</td>\n",
              "      <td>121938</td>\n",
              "    </tr>\n",
              "    <tr>\n",
              "      <th>2017-12-13</th>\n",
              "      <td>671.049988</td>\n",
              "      <td>682.000000</td>\n",
              "      <td>657.000000</td>\n",
              "      <td>675.349976</td>\n",
              "      <td>667.992798</td>\n",
              "      <td>260250</td>\n",
              "    </tr>\n",
              "    <tr>\n",
              "      <th>2017-12-14</th>\n",
              "      <td>675.099976</td>\n",
              "      <td>683.000000</td>\n",
              "      <td>673.299988</td>\n",
              "      <td>679.900024</td>\n",
              "      <td>672.493164</td>\n",
              "      <td>444539</td>\n",
              "    </tr>\n",
              "  </tbody>\n",
              "</table>\n",
              "</div>\n",
              "      <button class=\"colab-df-convert\" onclick=\"convertToInteractive('df-4ffb3b0d-3990-400b-9f56-990393576ec9')\"\n",
              "              title=\"Convert this dataframe to an interactive table.\"\n",
              "              style=\"display:none;\">\n",
              "        \n",
              "  <svg xmlns=\"http://www.w3.org/2000/svg\" height=\"24px\"viewBox=\"0 0 24 24\"\n",
              "       width=\"24px\">\n",
              "    <path d=\"M0 0h24v24H0V0z\" fill=\"none\"/>\n",
              "    <path d=\"M18.56 5.44l.94 2.06.94-2.06 2.06-.94-2.06-.94-.94-2.06-.94 2.06-2.06.94zm-11 1L8.5 8.5l.94-2.06 2.06-.94-2.06-.94L8.5 2.5l-.94 2.06-2.06.94zm10 10l.94 2.06.94-2.06 2.06-.94-2.06-.94-.94-2.06-.94 2.06-2.06.94z\"/><path d=\"M17.41 7.96l-1.37-1.37c-.4-.4-.92-.59-1.43-.59-.52 0-1.04.2-1.43.59L10.3 9.45l-7.72 7.72c-.78.78-.78 2.05 0 2.83L4 21.41c.39.39.9.59 1.41.59.51 0 1.02-.2 1.41-.59l7.78-7.78 2.81-2.81c.8-.78.8-2.07 0-2.86zM5.41 20L4 18.59l7.72-7.72 1.47 1.35L5.41 20z\"/>\n",
              "  </svg>\n",
              "      </button>\n",
              "      \n",
              "  <style>\n",
              "    .colab-df-container {\n",
              "      display:flex;\n",
              "      flex-wrap:wrap;\n",
              "      gap: 12px;\n",
              "    }\n",
              "\n",
              "    .colab-df-convert {\n",
              "      background-color: #E8F0FE;\n",
              "      border: none;\n",
              "      border-radius: 50%;\n",
              "      cursor: pointer;\n",
              "      display: none;\n",
              "      fill: #1967D2;\n",
              "      height: 32px;\n",
              "      padding: 0 0 0 0;\n",
              "      width: 32px;\n",
              "    }\n",
              "\n",
              "    .colab-df-convert:hover {\n",
              "      background-color: #E2EBFA;\n",
              "      box-shadow: 0px 1px 2px rgba(60, 64, 67, 0.3), 0px 1px 3px 1px rgba(60, 64, 67, 0.15);\n",
              "      fill: #174EA6;\n",
              "    }\n",
              "\n",
              "    [theme=dark] .colab-df-convert {\n",
              "      background-color: #3B4455;\n",
              "      fill: #D2E3FC;\n",
              "    }\n",
              "\n",
              "    [theme=dark] .colab-df-convert:hover {\n",
              "      background-color: #434B5C;\n",
              "      box-shadow: 0px 1px 3px 1px rgba(0, 0, 0, 0.15);\n",
              "      filter: drop-shadow(0px 1px 2px rgba(0, 0, 0, 0.3));\n",
              "      fill: #FFFFFF;\n",
              "    }\n",
              "  </style>\n",
              "\n",
              "      <script>\n",
              "        const buttonEl =\n",
              "          document.querySelector('#df-4ffb3b0d-3990-400b-9f56-990393576ec9 button.colab-df-convert');\n",
              "        buttonEl.style.display =\n",
              "          google.colab.kernel.accessAllowed ? 'block' : 'none';\n",
              "\n",
              "        async function convertToInteractive(key) {\n",
              "          const element = document.querySelector('#df-4ffb3b0d-3990-400b-9f56-990393576ec9');\n",
              "          const dataTable =\n",
              "            await google.colab.kernel.invokeFunction('convertToInteractive',\n",
              "                                                     [key], {});\n",
              "          if (!dataTable) return;\n",
              "\n",
              "          const docLinkHtml = 'Like what you see? Visit the ' +\n",
              "            '<a target=\"_blank\" href=https://colab.research.google.com/notebooks/data_table.ipynb>data table notebook</a>'\n",
              "            + ' to learn more about interactive tables.';\n",
              "          element.innerHTML = '';\n",
              "          dataTable['output_type'] = 'display_data';\n",
              "          await google.colab.output.renderOutput(dataTable, element);\n",
              "          const docLink = document.createElement('div');\n",
              "          docLink.innerHTML = docLinkHtml;\n",
              "          element.appendChild(docLink);\n",
              "        }\n",
              "      </script>\n",
              "    </div>\n",
              "  </div>\n",
              "  "
            ]
          },
          "metadata": {},
          "execution_count": 227
        }
      ],
      "source": [
        "data.head()"
      ]
    },
    {
      "cell_type": "code",
      "execution_count": 228,
      "id": "9d445949",
      "metadata": {
        "colab": {
          "base_uri": "https://localhost:8080/"
        },
        "id": "9d445949",
        "outputId": "0a67412a-d545-4840-e58a-565324edfc6b"
      },
      "outputs": [
        {
          "output_type": "execute_result",
          "data": {
            "text/plain": [
              "1235"
            ]
          },
          "metadata": {},
          "execution_count": 228
        }
      ],
      "source": [
        "len(data)"
      ]
    },
    {
      "cell_type": "code",
      "execution_count": 229,
      "id": "bf283ad5",
      "metadata": {
        "colab": {
          "base_uri": "https://localhost:8080/",
          "height": 238
        },
        "id": "bf283ad5",
        "outputId": "966ec735-ec8a-43d8-e589-881db117ff8b"
      },
      "outputs": [
        {
          "output_type": "execute_result",
          "data": {
            "text/plain": [
              "                   Open         High          Low        Close    Adj Close  \\\n",
              "Date                                                                          \n",
              "2022-12-02  1292.000000  1299.949951  1265.000000  1295.150024  1295.150024   \n",
              "2022-12-05  1298.099976  1298.099976  1273.650024  1284.550049  1284.550049   \n",
              "2022-12-06  1286.000000  1313.500000  1281.550049  1285.099976  1285.099976   \n",
              "2022-12-07  1285.900024  1296.599976  1259.000000  1262.050049  1262.050049   \n",
              "2022-12-08  1242.000000  1262.050049  1242.000000  1255.300049  1255.300049   \n",
              "\n",
              "             Volume  \n",
              "Date                 \n",
              "2022-12-02  1614314  \n",
              "2022-12-05   684421  \n",
              "2022-12-06  1991151  \n",
              "2022-12-07   636553  \n",
              "2022-12-08   355749  "
            ],
            "text/html": [
              "\n",
              "  <div id=\"df-0f6aa4fe-9af9-4f55-bb79-b727e927ea1e\">\n",
              "    <div class=\"colab-df-container\">\n",
              "      <div>\n",
              "<style scoped>\n",
              "    .dataframe tbody tr th:only-of-type {\n",
              "        vertical-align: middle;\n",
              "    }\n",
              "\n",
              "    .dataframe tbody tr th {\n",
              "        vertical-align: top;\n",
              "    }\n",
              "\n",
              "    .dataframe thead th {\n",
              "        text-align: right;\n",
              "    }\n",
              "</style>\n",
              "<table border=\"1\" class=\"dataframe\">\n",
              "  <thead>\n",
              "    <tr style=\"text-align: right;\">\n",
              "      <th></th>\n",
              "      <th>Open</th>\n",
              "      <th>High</th>\n",
              "      <th>Low</th>\n",
              "      <th>Close</th>\n",
              "      <th>Adj Close</th>\n",
              "      <th>Volume</th>\n",
              "    </tr>\n",
              "    <tr>\n",
              "      <th>Date</th>\n",
              "      <th></th>\n",
              "      <th></th>\n",
              "      <th></th>\n",
              "      <th></th>\n",
              "      <th></th>\n",
              "      <th></th>\n",
              "    </tr>\n",
              "  </thead>\n",
              "  <tbody>\n",
              "    <tr>\n",
              "      <th>2022-12-02</th>\n",
              "      <td>1292.000000</td>\n",
              "      <td>1299.949951</td>\n",
              "      <td>1265.000000</td>\n",
              "      <td>1295.150024</td>\n",
              "      <td>1295.150024</td>\n",
              "      <td>1614314</td>\n",
              "    </tr>\n",
              "    <tr>\n",
              "      <th>2022-12-05</th>\n",
              "      <td>1298.099976</td>\n",
              "      <td>1298.099976</td>\n",
              "      <td>1273.650024</td>\n",
              "      <td>1284.550049</td>\n",
              "      <td>1284.550049</td>\n",
              "      <td>684421</td>\n",
              "    </tr>\n",
              "    <tr>\n",
              "      <th>2022-12-06</th>\n",
              "      <td>1286.000000</td>\n",
              "      <td>1313.500000</td>\n",
              "      <td>1281.550049</td>\n",
              "      <td>1285.099976</td>\n",
              "      <td>1285.099976</td>\n",
              "      <td>1991151</td>\n",
              "    </tr>\n",
              "    <tr>\n",
              "      <th>2022-12-07</th>\n",
              "      <td>1285.900024</td>\n",
              "      <td>1296.599976</td>\n",
              "      <td>1259.000000</td>\n",
              "      <td>1262.050049</td>\n",
              "      <td>1262.050049</td>\n",
              "      <td>636553</td>\n",
              "    </tr>\n",
              "    <tr>\n",
              "      <th>2022-12-08</th>\n",
              "      <td>1242.000000</td>\n",
              "      <td>1262.050049</td>\n",
              "      <td>1242.000000</td>\n",
              "      <td>1255.300049</td>\n",
              "      <td>1255.300049</td>\n",
              "      <td>355749</td>\n",
              "    </tr>\n",
              "  </tbody>\n",
              "</table>\n",
              "</div>\n",
              "      <button class=\"colab-df-convert\" onclick=\"convertToInteractive('df-0f6aa4fe-9af9-4f55-bb79-b727e927ea1e')\"\n",
              "              title=\"Convert this dataframe to an interactive table.\"\n",
              "              style=\"display:none;\">\n",
              "        \n",
              "  <svg xmlns=\"http://www.w3.org/2000/svg\" height=\"24px\"viewBox=\"0 0 24 24\"\n",
              "       width=\"24px\">\n",
              "    <path d=\"M0 0h24v24H0V0z\" fill=\"none\"/>\n",
              "    <path d=\"M18.56 5.44l.94 2.06.94-2.06 2.06-.94-2.06-.94-.94-2.06-.94 2.06-2.06.94zm-11 1L8.5 8.5l.94-2.06 2.06-.94-2.06-.94L8.5 2.5l-.94 2.06-2.06.94zm10 10l.94 2.06.94-2.06 2.06-.94-2.06-.94-.94-2.06-.94 2.06-2.06.94z\"/><path d=\"M17.41 7.96l-1.37-1.37c-.4-.4-.92-.59-1.43-.59-.52 0-1.04.2-1.43.59L10.3 9.45l-7.72 7.72c-.78.78-.78 2.05 0 2.83L4 21.41c.39.39.9.59 1.41.59.51 0 1.02-.2 1.41-.59l7.78-7.78 2.81-2.81c.8-.78.8-2.07 0-2.86zM5.41 20L4 18.59l7.72-7.72 1.47 1.35L5.41 20z\"/>\n",
              "  </svg>\n",
              "      </button>\n",
              "      \n",
              "  <style>\n",
              "    .colab-df-container {\n",
              "      display:flex;\n",
              "      flex-wrap:wrap;\n",
              "      gap: 12px;\n",
              "    }\n",
              "\n",
              "    .colab-df-convert {\n",
              "      background-color: #E8F0FE;\n",
              "      border: none;\n",
              "      border-radius: 50%;\n",
              "      cursor: pointer;\n",
              "      display: none;\n",
              "      fill: #1967D2;\n",
              "      height: 32px;\n",
              "      padding: 0 0 0 0;\n",
              "      width: 32px;\n",
              "    }\n",
              "\n",
              "    .colab-df-convert:hover {\n",
              "      background-color: #E2EBFA;\n",
              "      box-shadow: 0px 1px 2px rgba(60, 64, 67, 0.3), 0px 1px 3px 1px rgba(60, 64, 67, 0.15);\n",
              "      fill: #174EA6;\n",
              "    }\n",
              "\n",
              "    [theme=dark] .colab-df-convert {\n",
              "      background-color: #3B4455;\n",
              "      fill: #D2E3FC;\n",
              "    }\n",
              "\n",
              "    [theme=dark] .colab-df-convert:hover {\n",
              "      background-color: #434B5C;\n",
              "      box-shadow: 0px 1px 3px 1px rgba(0, 0, 0, 0.15);\n",
              "      filter: drop-shadow(0px 1px 2px rgba(0, 0, 0, 0.3));\n",
              "      fill: #FFFFFF;\n",
              "    }\n",
              "  </style>\n",
              "\n",
              "      <script>\n",
              "        const buttonEl =\n",
              "          document.querySelector('#df-0f6aa4fe-9af9-4f55-bb79-b727e927ea1e button.colab-df-convert');\n",
              "        buttonEl.style.display =\n",
              "          google.colab.kernel.accessAllowed ? 'block' : 'none';\n",
              "\n",
              "        async function convertToInteractive(key) {\n",
              "          const element = document.querySelector('#df-0f6aa4fe-9af9-4f55-bb79-b727e927ea1e');\n",
              "          const dataTable =\n",
              "            await google.colab.kernel.invokeFunction('convertToInteractive',\n",
              "                                                     [key], {});\n",
              "          if (!dataTable) return;\n",
              "\n",
              "          const docLinkHtml = 'Like what you see? Visit the ' +\n",
              "            '<a target=\"_blank\" href=https://colab.research.google.com/notebooks/data_table.ipynb>data table notebook</a>'\n",
              "            + ' to learn more about interactive tables.';\n",
              "          element.innerHTML = '';\n",
              "          dataTable['output_type'] = 'display_data';\n",
              "          await google.colab.output.renderOutput(dataTable, element);\n",
              "          const docLink = document.createElement('div');\n",
              "          docLink.innerHTML = docLinkHtml;\n",
              "          element.appendChild(docLink);\n",
              "        }\n",
              "      </script>\n",
              "    </div>\n",
              "  </div>\n",
              "  "
            ]
          },
          "metadata": {},
          "execution_count": 229
        }
      ],
      "source": [
        "data.tail()"
      ]
    },
    {
      "cell_type": "code",
      "execution_count": 230,
      "id": "6292e20a",
      "metadata": {
        "id": "6292e20a"
      },
      "outputs": [],
      "source": [
        "opn = data[['Open']]"
      ]
    },
    {
      "cell_type": "code",
      "execution_count": 231,
      "id": "21e132d8",
      "metadata": {
        "colab": {
          "base_uri": "https://localhost:8080/",
          "height": 286
        },
        "id": "21e132d8",
        "outputId": "ac879656-9597-41fa-a358-910dd25dbde9"
      },
      "outputs": [
        {
          "output_type": "execute_result",
          "data": {
            "text/plain": [
              "<matplotlib.axes._subplots.AxesSubplot at 0x7f90d99dbf10>"
            ]
          },
          "metadata": {},
          "execution_count": 231
        },
        {
          "output_type": "display_data",
          "data": {
            "text/plain": [
              "<Figure size 432x288 with 1 Axes>"
            ],
            "image/png": "[encoded data removed]"
          },
          "metadata": {
            "needs_background": "light"
          }
        }
      ],
      "source": [
        "opn.plot()"
      ]
    },
    {
      "cell_type": "code",
      "execution_count": 232,
      "id": "c5194440",
      "metadata": {
        "id": "c5194440"
      },
      "outputs": [],
      "source": [
        "import matplotlib.pyplot as plt"
      ]
    },
    {
      "cell_type": "code",
      "execution_count": 233,
      "id": "8038cb6a",
      "metadata": {
        "id": "8038cb6a"
      },
      "outputs": [],
      "source": [
        "ds = opn.values"
      ]
    },
    {
      "cell_type": "code",
      "execution_count": 234,
      "id": "69b08672",
      "metadata": {
        "colab": {
          "base_uri": "https://localhost:8080/"
        },
        "id": "69b08672",
        "outputId": "e19d6aca-58f9-4591-e8a6-1042ba09b174"
      },
      "outputs": [
        {
          "output_type": "execute_result",
          "data": {
            "text/plain": [
              "array([[ 664.04998779],\n",
              "       [ 680.        ],\n",
              "       [ 671.04998779],\n",
              "       ...,\n",
              "       [1286.        ],\n",
              "       [1285.90002441],\n",
              "       [1242.        ]])"
            ]
          },
          "metadata": {},
          "execution_count": 234
        }
      ],
      "source": [
        "ds"
      ]
    },
    {
      "cell_type": "code",
      "execution_count": 235,
      "id": "af022e3c",
      "metadata": {
        "colab": {
          "base_uri": "https://localhost:8080/",
          "height": 282
        },
        "id": "af022e3c",
        "outputId": "d792eb1e-d1aa-4a79-c74c-e9f2d50f204b"
      },
      "outputs": [
        {
          "output_type": "execute_result",
          "data": {
            "text/plain": [
              "[<matplotlib.lines.Line2D at 0x7f90d98c6b50>]"
            ]
          },
          "metadata": {},
          "execution_count": 235
        },
        {
          "output_type": "display_data",
          "data": {
            "text/plain": [
              "<Figure size 432x288 with 1 Axes>"
            ],
            "image/png": "[encoded data removed]"
          },
          "metadata": {
            "needs_background": "light"
          }
        }
      ],
      "source": [
        "plt.plot(ds)"
      ]
    },
    {
      "cell_type": "code",
      "execution_count": 236,
      "id": "0e73b789",
      "metadata": {
        "id": "0e73b789"
      },
      "outputs": [],
      "source": [
        "import numpy as np"
      ]
    },
    {
      "cell_type": "code",
      "execution_count": 237,
      "id": "0e6c1c22",
      "metadata": {
        "id": "0e6c1c22"
      },
      "outputs": [],
      "source": [
        "from sklearn.preprocessing import MinMaxScaler"
      ]
    },
    {
      "cell_type": "code",
      "execution_count": 238,
      "id": "cf6a3e1b",
      "metadata": {
        "id": "cf6a3e1b"
      },
      "outputs": [],
      "source": [
        "#Using MinMaxScaler for normalizing data between 0 & 1\n",
        "normalizer = MinMaxScaler(feature_range=(0,1))\n",
        "ds_scaled = normalizer.fit_transform(np.array(ds).reshape(-1,1))"
      ]
    },
    {
      "cell_type": "code",
      "execution_count": 239,
      "id": "7dbea1d5",
      "metadata": {
        "colab": {
          "base_uri": "https://localhost:8080/"
        },
        "id": "7dbea1d5",
        "outputId": "eb9eae5d-edf8-41db-f24b-bb3e5688f1e6"
      },
      "outputs": [
        {
          "output_type": "execute_result",
          "data": {
            "text/plain": [
              "(1235, 1235)"
            ]
          },
          "metadata": {},
          "execution_count": 239
        }
      ],
      "source": [
        "len(ds_scaled), len(ds)"
      ]
    },
    {
      "cell_type": "code",
      "execution_count": 240,
      "id": "a20c5654",
      "metadata": {
        "id": "a20c5654"
      },
      "outputs": [],
      "source": [
        "#Defining test and train data sizes\n",
        "train_size = int(len(ds_scaled)*0.70)\n",
        "test_size = len(ds_scaled) - train_size"
      ]
    },
    {
      "cell_type": "code",
      "execution_count": 241,
      "id": "b964aa4e",
      "metadata": {
        "colab": {
          "base_uri": "https://localhost:8080/"
        },
        "id": "b964aa4e",
        "outputId": "4deb0760-b5e3-4117-f3f3-5994708c9a42"
      },
      "outputs": [
        {
          "output_type": "execute_result",
          "data": {
            "text/plain": [
              "(864, 371)"
            ]
          },
          "metadata": {},
          "execution_count": 241
        }
      ],
      "source": [
        "train_size,test_size"
      ]
    },
    {
      "cell_type": "code",
      "execution_count": 242,
      "id": "25ca615e",
      "metadata": {
        "id": "25ca615e"
      },
      "outputs": [],
      "source": [
        "#Splitting data between train and test\n",
        "ds_train, ds_test = ds_scaled[0:train_size,:], ds_scaled[train_size:len(ds_scaled),:1]"
      ]
    },
    {
      "cell_type": "code",
      "execution_count": 243,
      "id": "95913f28",
      "metadata": {
        "colab": {
          "base_uri": "https://localhost:8080/"
        },
        "id": "95913f28",
        "outputId": "3f42845c-e6bb-4eb1-8704-dcbdb80ac469"
      },
      "outputs": [
        {
          "output_type": "execute_result",
          "data": {
            "text/plain": [
              "(864, 371)"
            ]
          },
          "metadata": {},
          "execution_count": 243
        }
      ],
      "source": [
        "len(ds_train),len(ds_test)"
      ]
    },
    {
      "cell_type": "code",
      "execution_count": 244,
      "id": "5dd0b45e",
      "metadata": {
        "id": "5dd0b45e"
      },
      "outputs": [],
      "source": [
        "#creating dataset in time series for LSTM model \n",
        "#X[100,120,140,160,180] : Y[200]\n",
        "def create_ds(dataset,step):\n",
        "    Xtrain, Ytrain = [], []\n",
        "    for i in range(len(dataset)-step-1):\n",
        "        a = dataset[i:(i+step), 0]\n",
        "        Xtrain.append(a)\n",
        "        Ytrain.append(dataset[i + step, 0])\n",
        "    return np.array(Xtrain), np.array(Ytrain)"
      ]
    },
    {
      "cell_type": "code",
      "execution_count": 245,
      "id": "d28b7d1d",
      "metadata": {
        "id": "d28b7d1d"
      },
      "outputs": [],
      "source": [
        "#Taking 100 days price as one record for training\n",
        "time_stamp = 100\n",
        "X_train, y_train = create_ds(ds_train,time_stamp)\n",
        "X_test, y_test = create_ds(ds_test,time_stamp)"
      ]
    },
    {
      "cell_type": "code",
      "execution_count": 246,
      "id": "03ce9096",
      "metadata": {
        "colab": {
          "base_uri": "https://localhost:8080/"
        },
        "id": "03ce9096",
        "outputId": "696f3611-426a-4e7c-e6d7-99624cc366b6"
      },
      "outputs": [
        {
          "output_type": "execute_result",
          "data": {
            "text/plain": [
              "((763, 100), (763,))"
            ]
          },
          "metadata": {},
          "execution_count": 246
        }
      ],
      "source": [
        "X_train.shape,y_train.shape"
      ]
    },
    {
      "cell_type": "code",
      "execution_count": 247,
      "id": "84acdd72",
      "metadata": {
        "colab": {
          "base_uri": "https://localhost:8080/"
        },
        "id": "84acdd72",
        "outputId": "7ed3f484-6f2a-48a9-fc44-c8884cb8734a"
      },
      "outputs": [
        {
          "output_type": "execute_result",
          "data": {
            "text/plain": [
              "((270, 100), (270,))"
            ]
          },
          "metadata": {},
          "execution_count": 247
        }
      ],
      "source": [
        "X_test.shape, y_test.shape"
      ]
    },
    {
      "cell_type": "code",
      "execution_count": 248,
      "id": "c657d193",
      "metadata": {
        "id": "c657d193"
      },
      "outputs": [],
      "source": [
        "#Reshaping data to fit into LSTM model\n",
        "X_train = X_train.reshape(X_train.shape[0],X_train.shape[1] , 1)\n",
        "X_test = X_test.reshape(X_test.shape[0],X_test.shape[1] , 1)"
      ]
    },
    {
      "cell_type": "code",
      "execution_count": 249,
      "id": "82844671",
      "metadata": {
        "id": "82844671"
      },
      "outputs": [],
      "source": [
        "from keras.models import Sequential\n",
        "from keras.layers import Dense, LSTM"
      ]
    },
    {
      "cell_type": "code",
      "execution_count": 250,
      "id": "b5250913",
      "metadata": {
        "colab": {
          "base_uri": "https://localhost:8080/"
        },
        "id": "b5250913",
        "outputId": "510a35e0-1bce-445e-aa99-1303ec3dab3b"
      },
      "outputs": [
        {
          "output_type": "stream",
          "name": "stdout",
          "text": [
            "Model: \"sequential_4\"\n",
            "_________________________________________________________________\n",
            " Layer (type)                Output Shape              Param #   \n",
            "=================================================================\n",
            " lstm_12 (LSTM)              (None, 100, 50)           10400     \n",
            "                                                                 \n",
            " lstm_13 (LSTM)              (None, 100, 50)           20200     \n",
            "                                                                 \n",
            " lstm_14 (LSTM)              (None, 50)                20200     \n",
            "                                                                 \n",
            " dense_4 (Dense)             (None, 1)                 51        \n",
            "                                                                 \n",
            "=================================================================\n",
            "Total params: 50,851\n",
            "Trainable params: 50,851\n",
            "Non-trainable params: 0\n",
            "_________________________________________________________________\n"
          ]
        }
      ],
      "source": [
        "#Creating LSTM model using keras\n",
        "model = Sequential()\n",
        "model.add(LSTM(units=50,return_sequences=True,input_shape=(X_train.shape[1],1)))\n",
        "model.add(LSTM(units=50,return_sequences=True))\n",
        "model.add(LSTM(units=50))\n",
        "model.add(Dense(units=1,activation='linear'))\n",
        "model.summary()"
      ]
    },
    {
      "cell_type": "code",
      "execution_count": 251,
      "id": "7e8ff062",
      "metadata": {
        "colab": {
          "base_uri": "https://localhost:8080/"
        },
        "id": "7e8ff062",
        "outputId": "f9adb764-acb5-4787-f0a6-dcd26adaecf6"
      },
      "outputs": [
        {
          "output_type": "stream",
          "name": "stdout",
          "text": [
            "Epoch 1/100\n",
            "12/12 [==============================] - 9s 316ms/step - loss: 0.0491 - val_loss: 0.0362\n",
            "Epoch 2/100\n",
            "12/12 [==============================] - 2s 208ms/step - loss: 0.0085 - val_loss: 0.0111\n",
            "Epoch 3/100\n",
            "12/12 [==============================] - 2s 192ms/step - loss: 0.0052 - val_loss: 0.0149\n",
            "Epoch 4/100\n",
            "12/12 [==============================] - 2s 204ms/step - loss: 0.0032 - val_loss: 0.0051\n",
            "Epoch 5/100\n",
            "12/12 [==============================] - 3s 212ms/step - loss: 0.0032 - val_loss: 0.0037\n",
            "Epoch 6/100\n",
            "12/12 [==============================] - 2s 205ms/step - loss: 0.0030 - val_loss: 0.0044\n",
            "Epoch 7/100\n",
            "12/12 [==============================] - 2s 209ms/step - loss: 0.0029 - val_loss: 0.0044\n",
            "Epoch 8/100\n",
            "12/12 [==============================] - 2s 206ms/step - loss: 0.0027 - val_loss: 0.0033\n",
            "Epoch 9/100\n",
            "12/12 [==============================] - 2s 180ms/step - loss: 0.0029 - val_loss: 0.0047\n",
            "Epoch 10/100\n",
            "12/12 [==============================] - 2s 182ms/step - loss: 0.0027 - val_loss: 0.0086\n",
            "Epoch 11/100\n",
            "12/12 [==============================] - 2s 197ms/step - loss: 0.0026 - val_loss: 0.0046\n",
            "Epoch 12/100\n",
            "12/12 [==============================] - 2s 203ms/step - loss: 0.0024 - val_loss: 0.0030\n",
            "Epoch 13/100\n",
            "12/12 [==============================] - 2s 206ms/step - loss: 0.0023 - val_loss: 0.0063\n",
            "Epoch 14/100\n",
            "12/12 [==============================] - 2s 195ms/step - loss: 0.0022 - val_loss: 0.0067\n",
            "Epoch 15/100\n",
            "12/12 [==============================] - 2s 198ms/step - loss: 0.0021 - val_loss: 0.0067\n",
            "Epoch 16/100\n",
            "12/12 [==============================] - 5s 420ms/step - loss: 0.0021 - val_loss: 0.0109\n",
            "Epoch 17/100\n",
            "12/12 [==============================] - 3s 217ms/step - loss: 0.0021 - val_loss: 0.0036\n",
            "Epoch 18/100\n",
            "12/12 [==============================] - 2s 189ms/step - loss: 0.0020 - val_loss: 0.0112\n",
            "Epoch 19/100\n",
            "12/12 [==============================] - 2s 190ms/step - loss: 0.0020 - val_loss: 0.0060\n",
            "Epoch 20/100\n",
            "12/12 [==============================] - 2s 194ms/step - loss: 0.0019 - val_loss: 0.0034\n",
            "Epoch 21/100\n",
            "12/12 [==============================] - 2s 185ms/step - loss: 0.0019 - val_loss: 0.0145\n",
            "Epoch 22/100\n",
            "12/12 [==============================] - 2s 185ms/step - loss: 0.0019 - val_loss: 0.0027\n",
            "Epoch 23/100\n",
            "12/12 [==============================] - 2s 205ms/step - loss: 0.0018 - val_loss: 0.0165\n",
            "Epoch 24/100\n",
            "12/12 [==============================] - 2s 208ms/step - loss: 0.0018 - val_loss: 0.0032\n",
            "Epoch 25/100\n",
            "12/12 [==============================] - 2s 208ms/step - loss: 0.0016 - val_loss: 0.0079\n",
            "Epoch 26/100\n",
            "12/12 [==============================] - 2s 210ms/step - loss: 0.0016 - val_loss: 0.0042\n",
            "Epoch 27/100\n",
            "12/12 [==============================] - 2s 208ms/step - loss: 0.0015 - val_loss: 0.0064\n",
            "Epoch 28/100\n",
            "12/12 [==============================] - 2s 201ms/step - loss: 0.0016 - val_loss: 0.0028\n",
            "Epoch 29/100\n",
            "12/12 [==============================] - 2s 195ms/step - loss: 0.0015 - val_loss: 0.0022\n",
            "Epoch 30/100\n",
            "12/12 [==============================] - 2s 195ms/step - loss: 0.0014 - val_loss: 0.0034\n",
            "Epoch 31/100\n",
            "12/12 [==============================] - 3s 253ms/step - loss: 0.0014 - val_loss: 0.0057\n",
            "Epoch 32/100\n",
            "12/12 [==============================] - 2s 199ms/step - loss: 0.0015 - val_loss: 0.0014\n",
            "Epoch 33/100\n",
            "12/12 [==============================] - 3s 267ms/step - loss: 0.0014 - val_loss: 0.0059\n",
            "Epoch 34/100\n",
            "12/12 [==============================] - 2s 184ms/step - loss: 0.0014 - val_loss: 0.0018\n",
            "Epoch 35/100\n",
            "12/12 [==============================] - 2s 197ms/step - loss: 0.0013 - val_loss: 0.0015\n",
            "Epoch 36/100\n",
            "12/12 [==============================] - 2s 202ms/step - loss: 0.0012 - val_loss: 0.0022\n",
            "Epoch 37/100\n",
            "12/12 [==============================] - 3s 236ms/step - loss: 0.0012 - val_loss: 0.0028\n",
            "Epoch 38/100\n",
            "12/12 [==============================] - 2s 206ms/step - loss: 0.0012 - val_loss: 0.0085\n",
            "Epoch 39/100\n",
            "12/12 [==============================] - 2s 200ms/step - loss: 0.0012 - val_loss: 0.0014\n",
            "Epoch 40/100\n",
            "12/12 [==============================] - 2s 184ms/step - loss: 0.0011 - val_loss: 0.0017\n",
            "Epoch 41/100\n",
            "12/12 [==============================] - 2s 189ms/step - loss: 0.0010 - val_loss: 0.0016\n",
            "Epoch 42/100\n",
            "12/12 [==============================] - 2s 186ms/step - loss: 0.0010 - val_loss: 0.0016\n",
            "Epoch 43/100\n",
            "12/12 [==============================] - 2s 206ms/step - loss: 0.0011 - val_loss: 0.0016\n",
            "Epoch 44/100\n",
            "12/12 [==============================] - 2s 208ms/step - loss: 0.0010 - val_loss: 0.0016\n",
            "Epoch 45/100\n",
            "12/12 [==============================] - 2s 208ms/step - loss: 0.0010 - val_loss: 0.0019\n",
            "Epoch 46/100\n",
            "12/12 [==============================] - 2s 194ms/step - loss: 9.5819e-04 - val_loss: 0.0046\n",
            "Epoch 47/100\n",
            "12/12 [==============================] - 2s 196ms/step - loss: 0.0010 - val_loss: 0.0034\n",
            "Epoch 48/100\n",
            "12/12 [==============================] - 2s 185ms/step - loss: 9.9073e-04 - val_loss: 0.0022\n",
            "Epoch 49/100\n",
            "12/12 [==============================] - 2s 186ms/step - loss: 0.0011 - val_loss: 0.0077\n",
            "Epoch 50/100\n",
            "12/12 [==============================] - 2s 188ms/step - loss: 0.0011 - val_loss: 0.0017\n",
            "Epoch 51/100\n",
            "12/12 [==============================] - 2s 193ms/step - loss: 0.0011 - val_loss: 0.0037\n",
            "Epoch 52/100\n",
            "12/12 [==============================] - 2s 208ms/step - loss: 9.2336e-04 - val_loss: 0.0033\n",
            "Epoch 53/100\n",
            "12/12 [==============================] - 2s 200ms/step - loss: 9.3681e-04 - val_loss: 0.0038\n",
            "Epoch 54/100\n",
            "12/12 [==============================] - 3s 284ms/step - loss: 9.3802e-04 - val_loss: 0.0026\n",
            "Epoch 55/100\n",
            "12/12 [==============================] - 3s 214ms/step - loss: 0.0010 - val_loss: 0.0047\n",
            "Epoch 56/100\n",
            "12/12 [==============================] - 2s 208ms/step - loss: 0.0010 - val_loss: 0.0021\n",
            "Epoch 57/100\n",
            "12/12 [==============================] - 2s 205ms/step - loss: 8.9532e-04 - val_loss: 0.0043\n",
            "Epoch 58/100\n",
            "12/12 [==============================] - 2s 200ms/step - loss: 7.9633e-04 - val_loss: 0.0061\n",
            "Epoch 59/100\n",
            "12/12 [==============================] - 2s 189ms/step - loss: 8.3287e-04 - val_loss: 0.0036\n",
            "Epoch 60/100\n",
            "12/12 [==============================] - 2s 200ms/step - loss: 7.8222e-04 - val_loss: 0.0061\n",
            "Epoch 61/100\n",
            "12/12 [==============================] - 2s 182ms/step - loss: 7.7385e-04 - val_loss: 0.0034\n",
            "Epoch 62/100\n",
            "12/12 [==============================] - 2s 191ms/step - loss: 7.5091e-04 - val_loss: 0.0021\n",
            "Epoch 63/100\n",
            "12/12 [==============================] - 2s 188ms/step - loss: 7.6590e-04 - val_loss: 0.0017\n",
            "Epoch 64/100\n",
            "12/12 [==============================] - 2s 193ms/step - loss: 7.7337e-04 - val_loss: 0.0015\n",
            "Epoch 65/100\n",
            "12/12 [==============================] - 3s 212ms/step - loss: 8.3111e-04 - val_loss: 0.0034\n",
            "Epoch 66/100\n",
            "12/12 [==============================] - 3s 212ms/step - loss: 7.5285e-04 - val_loss: 0.0045\n",
            "Epoch 67/100\n",
            "12/12 [==============================] - 2s 204ms/step - loss: 7.8351e-04 - val_loss: 0.0013\n",
            "Epoch 68/100\n",
            "12/12 [==============================] - 2s 183ms/step - loss: 7.2682e-04 - val_loss: 0.0048\n",
            "Epoch 69/100\n",
            "12/12 [==============================] - 2s 197ms/step - loss: 7.0188e-04 - val_loss: 0.0048\n",
            "Epoch 70/100\n",
            "12/12 [==============================] - 2s 206ms/step - loss: 7.9585e-04 - val_loss: 0.0019\n",
            "Epoch 71/100\n",
            "12/12 [==============================] - 2s 204ms/step - loss: 6.7639e-04 - val_loss: 0.0013\n",
            "Epoch 72/100\n",
            "12/12 [==============================] - 2s 199ms/step - loss: 6.7935e-04 - val_loss: 0.0026\n",
            "Epoch 73/100\n",
            "12/12 [==============================] - 2s 194ms/step - loss: 7.5405e-04 - val_loss: 0.0016\n",
            "Epoch 74/100\n",
            "12/12 [==============================] - 2s 210ms/step - loss: 6.5100e-04 - val_loss: 0.0052\n",
            "Epoch 75/100\n",
            "12/12 [==============================] - 2s 197ms/step - loss: 7.0231e-04 - val_loss: 0.0010\n",
            "Epoch 76/100\n",
            "12/12 [==============================] - 2s 202ms/step - loss: 8.1855e-04 - val_loss: 0.0047\n",
            "Epoch 77/100\n",
            "12/12 [==============================] - 2s 202ms/step - loss: 8.1023e-04 - val_loss: 0.0010\n",
            "Epoch 78/100\n",
            "12/12 [==============================] - 2s 205ms/step - loss: 7.9101e-04 - val_loss: 0.0020\n",
            "Epoch 79/100\n",
            "12/12 [==============================] - 2s 205ms/step - loss: 7.2603e-04 - val_loss: 0.0013\n",
            "Epoch 80/100\n",
            "12/12 [==============================] - 2s 202ms/step - loss: 6.5061e-04 - val_loss: 0.0036\n",
            "Epoch 81/100\n",
            "12/12 [==============================] - 2s 185ms/step - loss: 6.6410e-04 - val_loss: 0.0023\n",
            "Epoch 82/100\n",
            "12/12 [==============================] - 2s 198ms/step - loss: 7.0980e-04 - val_loss: 0.0013\n",
            "Epoch 83/100\n",
            "12/12 [==============================] - 3s 270ms/step - loss: 6.3812e-04 - val_loss: 9.2077e-04\n",
            "Epoch 84/100\n",
            "12/12 [==============================] - 2s 206ms/step - loss: 6.0175e-04 - val_loss: 8.4618e-04\n",
            "Epoch 85/100\n",
            "12/12 [==============================] - 2s 195ms/step - loss: 6.1944e-04 - val_loss: 8.3951e-04\n",
            "Epoch 86/100\n",
            "12/12 [==============================] - 2s 185ms/step - loss: 5.9915e-04 - val_loss: 0.0013\n",
            "Epoch 87/100\n",
            "12/12 [==============================] - 2s 187ms/step - loss: 6.0088e-04 - val_loss: 0.0011\n",
            "Epoch 88/100\n",
            "12/12 [==============================] - 2s 202ms/step - loss: 6.3710e-04 - val_loss: 8.4781e-04\n",
            "Epoch 89/100\n",
            "12/12 [==============================] - 2s 205ms/step - loss: 6.4249e-04 - val_loss: 0.0022\n",
            "Epoch 90/100\n",
            "12/12 [==============================] - 2s 196ms/step - loss: 5.7947e-04 - val_loss: 8.1889e-04\n",
            "Epoch 91/100\n",
            "12/12 [==============================] - 2s 199ms/step - loss: 6.0990e-04 - val_loss: 8.3724e-04\n",
            "Epoch 92/100\n",
            "12/12 [==============================] - 2s 203ms/step - loss: 5.9919e-04 - val_loss: 7.9806e-04\n",
            "Epoch 93/100\n",
            "12/12 [==============================] - 2s 198ms/step - loss: 6.4591e-04 - val_loss: 0.0015\n",
            "Epoch 94/100\n",
            "12/12 [==============================] - 2s 197ms/step - loss: 6.1844e-04 - val_loss: 8.0772e-04\n",
            "Epoch 95/100\n",
            "12/12 [==============================] - 2s 199ms/step - loss: 5.9678e-04 - val_loss: 0.0013\n",
            "Epoch 96/100\n",
            "12/12 [==============================] - 2s 185ms/step - loss: 5.7235e-04 - val_loss: 0.0014\n",
            "Epoch 97/100\n",
            "12/12 [==============================] - 2s 184ms/step - loss: 5.8281e-04 - val_loss: 0.0029\n",
            "Epoch 98/100\n",
            "12/12 [==============================] - 2s 201ms/step - loss: 5.9216e-04 - val_loss: 0.0015\n",
            "Epoch 99/100\n",
            "12/12 [==============================] - 2s 198ms/step - loss: 5.5504e-04 - val_loss: 7.8103e-04\n",
            "Epoch 100/100\n",
            "12/12 [==============================] - 2s 187ms/step - loss: 5.4124e-04 - val_loss: 0.0029\n"
          ]
        },
        {
          "output_type": "execute_result",
          "data": {
            "text/plain": [
              "<keras.callbacks.History at 0x7f90d96f6970>"
            ]
          },
          "metadata": {},
          "execution_count": 251
        }
      ],
      "source": [
        "#Training model with adam optimizer and mean squared error loss function\n",
        "model.compile(loss='mean_squared_error',optimizer='adam')\n",
        "model.fit(X_train,y_train,validation_data=(X_test,y_test),epochs=100,batch_size=64)"
      ]
    },
    {
      "cell_type": "code",
      "execution_count": 252,
      "id": "18b1ba6a",
      "metadata": {
        "colab": {
          "base_uri": "https://localhost:8080/",
          "height": 282
        },
        "id": "18b1ba6a",
        "outputId": "378a1c3e-c22d-4a06-dfc2-0ed9bce23b04"
      },
      "outputs": [
        {
          "output_type": "execute_result",
          "data": {
            "text/plain": [
              "[<matplotlib.lines.Line2D at 0x7f90d7d2c550>]"
            ]
          },
          "metadata": {},
          "execution_count": 252
        },
        {
          "output_type": "display_data",
          "data": {
            "text/plain": [
              "<Figure size 432x288 with 1 Axes>"
            ],
            "image/png": "[encoded data removed]"
          },
          "metadata": {
            "needs_background": "light"
          }
        }
      ],
      "source": [
        "#PLotting loss, it shows that loss has decreased significantly and model trained well\n",
        "loss = model.history.history['loss']\n",
        "plt.plot(loss)"
      ]
    },
    {
      "cell_type": "code",
      "execution_count": 253,
      "id": "3e7f2fc8",
      "metadata": {
        "colab": {
          "base_uri": "https://localhost:8080/"
        },
        "id": "3e7f2fc8",
        "outputId": "2d41aa09-e1e3-43c8-d643-99517acbc793"
      },
      "outputs": [
        {
          "output_type": "stream",
          "name": "stdout",
          "text": [
            "24/24 [==============================] - 2s 36ms/step\n",
            "9/9 [==============================] - 0s 34ms/step\n"
          ]
        }
      ],
      "source": [
        "#Predicitng on train and test data\n",
        "train_predict = model.predict(X_train)\n",
        "test_predict = model.predict(X_test)"
      ]
    },
    {
      "cell_type": "code",
      "execution_count": 254,
      "id": "c2d6c2d5",
      "metadata": {
        "id": "c2d6c2d5"
      },
      "outputs": [],
      "source": [
        "#Inverse transform to get actual value\n",
        "train_predict = normalizer.inverse_transform(train_predict)\n",
        "test_predict = normalizer.inverse_transform(test_predict)"
      ]
    },
    {
      "cell_type": "code",
      "execution_count": 255,
      "id": "9d0543ad",
      "metadata": {
        "colab": {
          "base_uri": "https://localhost:8080/",
          "height": 265
        },
        "id": "9d0543ad",
        "outputId": "53c34a3b-bb1b-4a6a-e3bf-7c98d8b9952d"
      },
      "outputs": [
        {
          "output_type": "display_data",
          "data": {
            "text/plain": [
              "<Figure size 432x288 with 1 Axes>"
            ],
            "image/png": "[encoded data removed]"
          },
          "metadata": {
            "needs_background": "light"
          }
        }
      ],
      "source": [
        "#Comparing using visuals\n",
        "plt.plot(normalizer.inverse_transform(ds_scaled), label = 'Orignal Dataset Scaled')\n",
        "plt.plot(train_predict, label  ='Trained Data')\n",
        "plt.plot(test_predict, label = 'Testing')\n",
        "plt.legend(loc='lower right')\n",
        "plt.show()"
      ]
    },
    {
      "cell_type": "code",
      "execution_count": 256,
      "id": "55300bae",
      "metadata": {
        "colab": {
          "base_uri": "https://localhost:8080/"
        },
        "id": "55300bae",
        "outputId": "95a5bbb5-6329-48c7-815a-d4d5abd8496e"
      },
      "outputs": [
        {
          "output_type": "execute_result",
          "data": {
            "text/plain": [
              "numpy.ndarray"
            ]
          },
          "metadata": {},
          "execution_count": 256
        }
      ],
      "source": [
        "type(train_predict)"
      ]
    },
    {
      "cell_type": "code",
      "execution_count": 257,
      "id": "bf6d5613",
      "metadata": {
        "id": "bf6d5613"
      },
      "outputs": [],
      "source": [
        "test = np.vstack((train_predict,test_predict))"
      ]
    },
    {
      "cell_type": "code",
      "execution_count": 258,
      "id": "41b272ff",
      "metadata": {
        "colab": {
          "base_uri": "https://localhost:8080/",
          "height": 282
        },
        "id": "41b272ff",
        "outputId": "19136a7c-47ab-4d89-9da9-1367a0d78884"
      },
      "outputs": [
        {
          "output_type": "execute_result",
          "data": {
            "text/plain": [
              "<matplotlib.legend.Legend at 0x7f90d7a6ef10>"
            ]
          },
          "metadata": {},
          "execution_count": 258
        },
        {
          "output_type": "display_data",
          "data": {
            "text/plain": [
              "<Figure size 432x288 with 1 Axes>"
            ],
            "image/png": "[encoded data removed]"
          },
          "metadata": {
            "needs_background": "light"
          }
        }
      ],
      "source": [
        "#Combining the predited data to create uniform data visualization\n",
        "plt.plot(normalizer.inverse_transform(ds_scaled), label = 'Orignal Dataset Scaled')\n",
        "plt.plot(test, label = 'Predicted Data')\n",
        "plt.legend(loc = 'lower right')"
      ]
    },
    {
      "cell_type": "code",
      "execution_count": 259,
      "id": "16af9283",
      "metadata": {
        "colab": {
          "base_uri": "https://localhost:8080/"
        },
        "id": "16af9283",
        "outputId": "197ace58-795b-4965-ca38-eb503ccf652c"
      },
      "outputs": [
        {
          "output_type": "execute_result",
          "data": {
            "text/plain": [
              "371"
            ]
          },
          "metadata": {},
          "execution_count": 259
        }
      ],
      "source": [
        "len(ds_test)"
      ]
    },
    {
      "cell_type": "code",
      "execution_count": 260,
      "id": "c13df7b8",
      "metadata": {
        "id": "c13df7b8"
      },
      "outputs": [],
      "source": [
        "#Getting the last 100 days records\n",
        "fut_inp = ds_test[270:]"
      ]
    },
    {
      "cell_type": "code",
      "execution_count": 261,
      "id": "52b30579",
      "metadata": {
        "id": "52b30579"
      },
      "outputs": [],
      "source": [
        "fut_inp = fut_inp.reshape(1,-1)"
      ]
    },
    {
      "cell_type": "code",
      "execution_count": 262,
      "id": "ac2686a6",
      "metadata": {
        "id": "ac2686a6"
      },
      "outputs": [],
      "source": [
        "tmp_inp = list(fut_inp)"
      ]
    },
    {
      "cell_type": "code",
      "execution_count": 263,
      "id": "dad5024f",
      "metadata": {
        "colab": {
          "base_uri": "https://localhost:8080/"
        },
        "id": "dad5024f",
        "outputId": "56bfcf72-40f4-4a5c-9fb0-34f43488528d"
      },
      "outputs": [
        {
          "output_type": "execute_result",
          "data": {
            "text/plain": [
              "(1, 101)"
            ]
          },
          "metadata": {},
          "execution_count": 263
        }
      ],
      "source": [
        "fut_inp.shape"
      ]
    },
    {
      "cell_type": "code",
      "execution_count": 264,
      "id": "98042a30",
      "metadata": {
        "id": "98042a30"
      },
      "outputs": [],
      "source": [
        "#Creating list of the last 100 data\n",
        "tmp_inp = tmp_inp[0].tolist()"
      ]
    },
    {
      "cell_type": "code",
      "execution_count": 265,
      "id": "44799d02",
      "metadata": {
        "colab": {
          "base_uri": "https://localhost:8080/"
        },
        "id": "44799d02",
        "outputId": "0824b863-d9ea-41d5-af80-402fa9da7213"
      },
      "outputs": [
        {
          "output_type": "stream",
          "name": "stdout",
          "text": [
            "[[0.9546841979026794], [0.9961465001106262], [1.0351557731628418], [1.0690199136734009], [1.098667860031128], [1.1251240968704224], [1.149741768836975], [1.1737070083618164], [1.1977990865707397], [1.2223682403564453], [1.2474356889724731], [1.2728265523910522], [1.2982879877090454], [1.3235690593719482], [1.348463535308838], [1.3728197813034058], [1.3965351581573486], [1.4195412397384644], [1.4417896270751953], [1.4632426500320435], [1.4838675260543823], [1.503632664680481], [1.5225118398666382], [1.5404824018478394], [1.5575282573699951], [1.573641300201416], [1.588821530342102], [1.60307776927948], [1.61642587184906], [1.6288886070251465]]\n"
          ]
        }
      ],
      "source": [
        "#Predicting next 30 days prices uing the current data\n",
        "#It will predict in sliding window manner (algorithm) with stride 1\n",
        "lst_output=[]\n",
        "n_steps=100\n",
        "i=0\n",
        "while(i<30):\n",
        "    \n",
        "    if(len(tmp_inp)>100):\n",
        "        fut_inp = np.array(tmp_inp[1:])\n",
        "        fut_inp=fut_inp.reshape(1,-1)\n",
        "        fut_inp = fut_inp.reshape((1, n_steps, 1))\n",
        "        yhat = model.predict(fut_inp, verbose=0)\n",
        "        tmp_inp.extend(yhat[0].tolist())\n",
        "        tmp_inp = tmp_inp[1:]\n",
        "        lst_output.extend(yhat.tolist())\n",
        "        i=i+1\n",
        "    else:\n",
        "        fut_inp = fut_inp.reshape((1, n_steps,1))\n",
        "        yhat = model.predict(fut_inp, verbose=0)\n",
        "        tmp_inp.extend(yhat[0].tolist())\n",
        "        lst_output.extend(yhat.tolist())\n",
        "        i=i+1\n",
        "    \n",
        "\n",
        "print(lst_output)"
      ]
    },
    {
      "cell_type": "code",
      "execution_count": 266,
      "id": "d49a83e5",
      "metadata": {
        "colab": {
          "base_uri": "https://localhost:8080/"
        },
        "id": "d49a83e5",
        "outputId": "beab6176-48ba-47a0-fb5e-10331476d41a"
      },
      "outputs": [
        {
          "output_type": "execute_result",
          "data": {
            "text/plain": [
              "1235"
            ]
          },
          "metadata": {},
          "execution_count": 266
        }
      ],
      "source": [
        "len(ds_scaled)"
      ]
    },
    {
      "cell_type": "code",
      "execution_count": 267,
      "id": "49450ea7",
      "metadata": {
        "id": "49450ea7"
      },
      "outputs": [],
      "source": [
        "#Creating a dummy plane to plot graph one after another\n",
        "plot_new=np.arange(1,101)\n",
        "plot_pred=np.arange(101,131)"
      ]
    },
    {
      "cell_type": "code",
      "execution_count": 268,
      "id": "29f84e31",
      "metadata": {
        "colab": {
          "base_uri": "https://localhost:8080/",
          "height": 282
        },
        "id": "29f84e31",
        "outputId": "465fe59a-694d-43d6-d3fb-1df293e56eea"
      },
      "outputs": [
        {
          "output_type": "execute_result",
          "data": {
            "text/plain": [
              "<matplotlib.legend.Legend at 0x7f90d7d5b940>"
            ]
          },
          "metadata": {},
          "execution_count": 268
        },
        {
          "output_type": "display_data",
          "data": {
            "text/plain": [
              "<Figure size 432x288 with 1 Axes>"
            ],
            "image/png": "[encoded data removed]"
          },
          "metadata": {
            "needs_background": "light"
          }
        }
      ],
      "source": [
        "plt.plot(plot_new, normalizer.inverse_transform(ds_scaled[1135:]), label = 'Current Stock')\n",
        "plt.plot(plot_pred, normalizer.inverse_transform(lst_output), label = 'Future Stock Prediction')\n",
        "plt.legend(loc = 'lower right')"
      ]
    },
    {
      "cell_type": "code",
      "execution_count": 269,
      "id": "e41c9362",
      "metadata": {
        "id": "e41c9362"
      },
      "outputs": [],
      "source": [
        "ds_new = ds_scaled.tolist()"
      ]
    },
    {
      "cell_type": "code",
      "execution_count": 270,
      "id": "d6c8d3c1",
      "metadata": {
        "colab": {
          "base_uri": "https://localhost:8080/"
        },
        "id": "d6c8d3c1",
        "outputId": "45352eb7-d71a-4dd0-f7b3-fce33e5ed199"
      },
      "outputs": [
        {
          "output_type": "execute_result",
          "data": {
            "text/plain": [
              "1235"
            ]
          },
          "metadata": {},
          "execution_count": 270
        }
      ],
      "source": [
        "len(ds_new)"
      ]
    },
    {
      "cell_type": "code",
      "execution_count": 271,
      "id": "24e99607",
      "metadata": {
        "colab": {
          "base_uri": "https://localhost:8080/",
          "height": 282
        },
        "id": "24e99607",
        "outputId": "99e1e9f9-ad82-4cd4-ae00-f30e99a8b4e5"
      },
      "outputs": [
        {
          "output_type": "execute_result",
          "data": {
            "text/plain": [
              "<matplotlib.legend.Legend at 0x7f90d99c5070>"
            ]
          },
          "metadata": {},
          "execution_count": 271
        },
        {
          "output_type": "display_data",
          "data": {
            "text/plain": [
              "<Figure size 432x288 with 1 Axes>"
            ],
            "image/png": "[encoded data removed]"
          },
          "metadata": {
            "needs_background": "light"
          }
        }
      ],
      "source": [
        "#Extend helps us to fill the missing value with approx value\n",
        "ds_new.extend(lst_output)\n",
        "plt.plot(ds_new[1200:], label = 'Orignal + Prediction')\n",
        "plt.legend (loc = 'lower right')"
      ]
    },
    {
      "cell_type": "code",
      "execution_count": 272,
      "id": "7f04f058",
      "metadata": {
        "id": "7f04f058"
      },
      "outputs": [],
      "source": [
        "#Creating final data for plotting\n",
        "final_graph = normalizer.inverse_transform(ds_new).tolist()"
      ]
    },
    {
      "cell_type": "code",
      "execution_count": 273,
      "id": "2dfdef30",
      "metadata": {
        "colab": {
          "base_uri": "https://localhost:8080/",
          "height": 312
        },
        "id": "2dfdef30",
        "outputId": "b107966f-110b-4f9f-c53e-d0c319eb9de2"
      },
      "outputs": [
        {
          "output_type": "execute_result",
          "data": {
            "text/plain": [
              "<matplotlib.legend.Legend at 0x7f90d9b34c10>"
            ]
          },
          "metadata": {},
          "execution_count": 273
        },
        {
          "output_type": "display_data",
          "data": {
            "text/plain": [
              "<Figure size 432x288 with 1 Axes>"
            ],
            "image/png": "[encoded data removed]"
          },
          "metadata": {
            "needs_background": "light"
          }
        }
      ],
      "source": [
        "#Plotting final results with predicted value after 30 Days\n",
        "plt.plot(final_graph,)\n",
        "plt.ylabel(\"Price\")\n",
        "plt.xlabel(\"Time\")\n",
        "plt.title(\"{0} prediction of next month open\".format(stock_symbol))\n",
        "plt.axhline(y=final_graph[len(final_graph)-1], color = 'red', linestyle = ':', label = 'NEXT 30D: {0}'.format(round(float(*final_graph[len(final_graph)-1]),2)))\n",
        "plt.legend()"
      ]
    }
  ],
  "metadata": {
    "kernelspec": {
      "display_name": "Python 3",
      "language": "python",
      "name": "python3"
    },
    "language_info": {
      "codemirror_mode": {
        "name": "ipython",
        "version": 3
      },
      "file_extension": ".py",
      "mimetype": "text/x-python",
      "name": "python",
      "nbconvert_exporter": "python",
      "pygments_lexer": "ipython3",
      "version": "3.7.10"
    },
    "colab": {
      "provenance": [],
      "include_colab_link": true
    }
  },
  "nbformat": 4,
  "nbformat_minor": 5
}